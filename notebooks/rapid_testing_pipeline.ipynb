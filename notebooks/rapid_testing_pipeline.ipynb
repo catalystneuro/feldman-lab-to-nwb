{
 "cells": [
  {
   "cell_type": "markdown",
   "metadata": {},
   "source": [
    "# Rapid prototype testing pipeline for Feldman lab\n",
    "## ToDo"
   ]
  },
  {
   "cell_type": "code",
   "execution_count": null,
   "metadata": {},
   "outputs": [],
   "source": [
    "from pathlib import Path\n",
    "import numpy as np\n",
    "import matplotlib.pyplot as plt\n",
    "from pprint import pprint\n",
    "\n",
    "import spikeextractors as se\n",
    "import spiketoolkit as st\n",
    "import spikesorters as ss\n",
    "import spikecomparison as sc\n",
    "import spikewidgets as sw\n",
    "import nwbwidgets\n",
    "\n",
    "%matplotlib notebook"
   ]
  },
  {
   "cell_type": "markdown",
   "metadata": {},
   "source": [
    "## 1a) Load short AP and LF recordings"
   ]
  },
  {
   "cell_type": "code",
   "execution_count": null,
   "metadata": {},
   "outputs": [],
   "source": [
    "base_path = Path(\"D:/Feldman\")\n",
    "#base_path = Path(\"/Users/abuccino/Documents/Data/catalyst/brody/A256_bank1_2020_09_30_g0\")\n",
    "#base_data_path = Path(\"D:/Neuropixels/Neuropixels/A256_bank1_2020_09_30/A256_bank1_2020_09_30_g0\")\n",
    "base_data_path = Path(\"20210115_NPX_and_behavior/2021_01_15_E105/towersTask_g0\")\n",
    "ap_bin_path = base_data_path / \"towersTask_g0_imec0\" / \"towersTask_g0_t0.imec0.ap.bin\"\n",
    "lf_bin_path = base_data_path / \"towersTask_g0_imec0\" / \"towersTask_g0_t0.imec0.lf.bin\""
   ]
  },
  {
   "cell_type": "markdown",
   "metadata": {},
   "source": [
    "### Make spikeinterface folders"
   ]
  },
  {
   "cell_type": "code",
   "execution_count": null,
   "metadata": {},
   "outputs": [],
   "source": [
    "recording_folder = Path(\"20210115_NPX_and_behavior/2021_01_15_E105\")\n",
    "spikeinterface_folder = recording_folder / 'spikeinterface'base_path = Path(\"D:/Feldman\")\n",
    "\n",
    "spikeinterface_folder.mkdir(parents=True, exist_ok=True)"
   ]
  },
  {
   "cell_type": "code",
   "execution_count": null,
   "metadata": {},
   "outputs": [],
   "source": [
    "recording_ap = se.SpikeGLXRecordingExtractor(ap_bin_path)\n",
    "recording_lf = se.SpikeGLXRecordingExtractor(lf_bin_path)"
   ]
  },
  {
   "cell_type": "markdown",
   "metadata": {},
   "source": [
    "### ToDo: perform quick spike evaluation?"
   ]
  },
  {
   "cell_type": "code",
   "execution_count": null,
   "metadata": {},
   "outputs": [],
   "source": [
    "#quick_sort = ?"
   ]
  },
  {
   "cell_type": "markdown",
   "metadata": {},
   "source": [
    "### save with behavioral data"
   ]
  },
  {
   "cell_type": "code",
   "execution_count": null,
   "metadata": {},
   "outputs": [],
   "source": [
    "# The name of the NWBFile containing behavioral data\n",
    "nwbfile_path = base_data_path / f\"Feldman_prototype_{session_name}.nwb\"\n",
    "\n",
    "se.NwbSortingExtractor.write_recording(\n",
    "    sorting=recording_ap,\n",
    "    save_path=nwbfile_path,\n",
    "    overwrite=False  # this appends the file. True would write a new file\n",
    ")\n",
    "se.NwbSortingExtractor.write_sorting(\n",
    "    sorting=quick_sort,\n",
    "    save_path=nwbfile_path,\n",
    "    overwrite=False  # this appends the file. True would write a new file\n",
    ")"
   ]
  },
  {
   "cell_type": "markdown",
   "metadata": {},
   "source": [
    "# View output vs. behavior in NWBWidgets to ensure quality electrode placement\n",
    "## ToDo"
   ]
  },
  {
   "cell_type": "code",
   "execution_count": null,
   "metadata": {},
   "outputs": [],
   "source": []
  }
 ],
 "metadata": {
  "kernelspec": {
   "display_name": "Python 3",
   "language": "python",
   "name": "python3"
  },
  "language_info": {
   "codemirror_mode": {
    "name": "ipython",
    "version": 3
   },
   "file_extension": ".py",
   "mimetype": "text/x-python",
   "name": "python",
   "nbconvert_exporter": "python",
   "pygments_lexer": "ipython3",
   "version": "3.9.1"
  },
  "pycharm": {
   "stem_cell": {
    "cell_type": "raw",
    "metadata": {
     "collapsed": false
    },
    "source": []
   }
  }
 },
 "nbformat": 4,
 "nbformat_minor": 4
}
