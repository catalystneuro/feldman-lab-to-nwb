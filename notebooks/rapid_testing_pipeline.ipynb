{
 "cells": [
  {
   "cell_type": "markdown",
   "metadata": {},
   "source": [
    "# Online pipeline for Feldman lab"
   ]
  },
  {
   "cell_type": "code",
   "execution_count": null,
   "metadata": {},
   "outputs": [],
   "source": [
    "%load_ext autoreload\n",
    "%autoreload 2"
   ]
  },
  {
   "cell_type": "code",
   "execution_count": null,
   "metadata": {},
   "outputs": [],
   "source": [
    "from pathlib import Path\n",
    "import numpy as np\n",
    "import matplotlib.pyplot as plt\n",
    "from pprint import pprint\n",
    "\n",
    "import spikeextractors as se\n",
    "import spiketoolkit as st\n",
    "import spikesorters as ss\n",
    "import spikecomparison as sc\n",
    "import spikewidgets as sw\n",
    "import time\n",
    "from pynwb import NWBHDF5IO\n",
    "from nwbwidgets import nwb2widget\n",
    "\n",
    "from feldman_lab_to_nwb import FeldmanNWBConverter\n",
    "\n",
    "%matplotlib notebook"
   ]
  },
  {
   "cell_type": "code",
   "execution_count": null,
   "metadata": {},
   "outputs": [],
   "source": [
    "# set parameters for parallelization\n",
    "n_jobs = 8 # number of concurrent jobs\n",
    "chunk_mb = 2000  # max amount of RAM in Mb"
   ]
  },
  {
   "cell_type": "markdown",
   "metadata": {},
   "source": [
    "## 1) Load short AP and LF recordings"
   ]
  },
  {
   "cell_type": "code",
   "execution_count": null,
   "metadata": {},
   "outputs": [],
   "source": [
    "base_path = Path(\"D:/Feldman/Neuropixels_Feldman/210209/SpikeGLX\")\n",
    "#session_name = \"LR_210209_2_g1\"\n",
    "# session_name = \"LR_210209_g1\"\n",
    "session_name = \"LR_210209_g0\"\n",
    "# session_name = \"LR_210209_2_g1\"\n",
    "ap_bin_path = base_path / session_name / f\"{session_name}_imec0\" / f\"{session_name}_t0.imec0.ap.bin\"\n",
    "lf_bin_path = base_path / session_name / f\"{session_name}_imec0\" / f\"{session_name}_t0.imec0.lf.bin\"\n",
    "nidq_bin_path = base_path / session_name / f\"{session_name}_t0.nidq.bin\""
   ]
  },
  {
   "cell_type": "code",
   "execution_count": null,
   "metadata": {},
   "outputs": [],
   "source": [
    "recording_ap = se.SpikeGLXRecordingExtractor(ap_bin_path)"
   ]
  },
  {
   "cell_type": "code",
   "execution_count": null,
   "metadata": {},
   "outputs": [],
   "source": [
    "duration = recording_ap.get_num_frames() / recording_ap.get_sampling_frequency()\n",
    "fs = recording_ap.get_sampling_frequency()\n",
    "print(f\"Duration: {np.round(duration, 1)} s\")"
   ]
  },
  {
   "cell_type": "code",
   "execution_count": null,
   "metadata": {},
   "outputs": [],
   "source": [
    "# for testing, cut out 2 minutes\n",
    "subrec = se.SubRecordingExtractor(recording_ap, end_frame=120*fs)\n",
    "subrec.get_num_frames() / subrec.get_sampling_frequency()"
   ]
  },
  {
   "cell_type": "markdown",
   "metadata": {},
   "source": [
    "# 2) Quick spike detection by channel"
   ]
  },
  {
   "cell_type": "code",
   "execution_count": null,
   "metadata": {},
   "outputs": [],
   "source": [
    "t_start = time.time()\n",
    "sorting_ch = st.sortingcomponents.detect_spikes(\n",
    "    recording=subrec,\n",
    "    n_jobs=n_jobs,\n",
    "    chunk_mb=chunk_mb,\n",
    "    verbose=True\n",
    ")\n",
    "t_stop = time.time()\n",
    "print(f\"Elapsed time for detection: {t_stop - t_start}\")"
   ]
  },
  {
   "cell_type": "code",
   "execution_count": null,
   "metadata": {},
   "outputs": [],
   "source": [
    "print(f\"Detected spikes on {len(sorting_ch.get_unit_ids())} channels\")"
   ]
  },
  {
   "cell_type": "code",
   "execution_count": null,
   "metadata": {},
   "outputs": [],
   "source": [
    "wr = sw.plot_rasters(sorting_ch)"
   ]
  },
  {
   "cell_type": "markdown",
   "metadata": {},
   "source": [
    "### (optional) Remove channels below a certain firing rate"
   ]
  },
  {
   "cell_type": "code",
   "execution_count": null,
   "metadata": {},
   "outputs": [],
   "source": [
    "firing_rate_threshold = 0.1\n",
    "num_frames = subrec.get_num_frames()\n",
    "\n",
    "sorting_high_fr = st.curation.threshold_firing_rates(\n",
    "    sorting_ch,\n",
    "    duration_in_frames=num_frames,\n",
    "    threshold=firing_rate_threshold, \n",
    "    threshold_sign=\"less\"\n",
    ")"
   ]
  },
  {
   "cell_type": "code",
   "execution_count": null,
   "metadata": {},
   "outputs": [],
   "source": [
    "print(f\"Detected spikes on {len(sorting_high_fr.get_unit_ids())} channels with fr > {firing_rate_threshold}\")"
   ]
  },
  {
   "cell_type": "markdown",
   "metadata": {},
   "source": [
    "# 3) Save spike and behavior info to NWB"
   ]
  },
  {
   "cell_type": "code",
   "execution_count": null,
   "metadata": {},
   "outputs": [],
   "source": [
    "# Specify behavioral folder path and name of NWBFile\n",
    "behavior_folder_path = \"D:/Feldman/ADRIAN\"\n",
    "nwbfile_path = f\"D:/Feldman/rapid_testing_{session_name}.nwb\"\n",
    "\n",
    "# Choose a sorting extractor (either basic detection or rate thresholded)\n",
    "chosen_sorting = sorting_high_fr\n",
    "\n",
    "\n",
    "# Run conversion to NWB\n",
    "source_data = dict(Behavior=dict(folder_path=behavior_folder_path))\n",
    "conversion_options = dict(Behavior=dict(nidq_synch_file=str(nidq_bin_path)))\n",
    "converter = FeldmanNWBConverter(source_data=source_data)\n",
    "metadata = converter.get_metadata()\n",
    "metadata[\"NWBFile\"].update(session_description=\"Rapid testing file for electrode placement.\")\n",
    "converter.run_conversion(\n",
    "    nwbfile_path=nwbfile_path,\n",
    "    metadata=metadata,\n",
    "    conversion_options=conversion_options,\n",
    "    overwrite=True  # this creates the file\n",
    ")\n",
    "\n",
    "pprint(\"Appending recording and sorting info...\")\n",
    "se.NwbRecordingExtractor.write_recording(\n",
    "    recording=subrec,\n",
    "    save_path=nwbfile_path,\n",
    "    overwrite=False  # this appends the file. True would write a new file\n",
    ")\n",
    "se.NwbSortingExtractor.write_sorting(\n",
    "    sorting=chosen_sorting,\n",
    "    save_path=nwbfile_path,\n",
    "    overwrite=False  # this appends the file. True would write a new file\n",
    ")\n",
    "pprint(\"Recording and sorting appended!\")"
   ]
  },
  {
   "cell_type": "markdown",
   "metadata": {},
   "source": [
    "# 5) View output vs. behavior in NWBWidgets "
   ]
  },
  {
   "cell_type": "code",
   "execution_count": null,
   "metadata": {},
   "outputs": [],
   "source": [
    "io = NWBHDF5IO(nwbfile_path, mode='r')\n",
    "nwb = io.read()\n",
    "\n",
    "nwb2widget(nwb)"
   ]
  },
  {
   "cell_type": "code",
   "execution_count": null,
   "metadata": {},
   "outputs": [],
   "source": [
    "io.close()"
   ]
  },
  {
   "cell_type": "code",
   "execution_count": null,
   "metadata": {},
   "outputs": [],
   "source": []
  }
 ],
 "metadata": {
  "kernelspec": {
   "display_name": "Python 3",
   "language": "python",
   "name": "python3"
  },
  "language_info": {
   "codemirror_mode": {
    "name": "ipython",
    "version": 3
   },
   "file_extension": ".py",
   "mimetype": "text/x-python",
   "name": "python",
   "nbconvert_exporter": "python",
   "pygments_lexer": "ipython3",
   "version": "3.9.1"
  },
  "pycharm": {
   "stem_cell": {
    "cell_type": "raw",
    "metadata": {
     "collapsed": false
    },
    "source": []
   }
  }
 },
 "nbformat": 4,
 "nbformat_minor": 4
}
